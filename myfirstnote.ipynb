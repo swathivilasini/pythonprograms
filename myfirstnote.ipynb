{
 "cells": [
  {
   "cell_type": "markdown",
   "id": "480111d7",
   "metadata": {},
   "source": [
    "# This is my title"
   ]
  },
  {
   "cell_type": "code",
   "execution_count": null,
   "id": "df0a64a4",
   "metadata": {},
   "outputs": [],
   "source": []
  },
  {
   "cell_type": "markdown",
   "id": "c9b21473",
   "metadata": {},
   "source": [
    "## This is my second title"
   ]
  },
  {
   "cell_type": "code",
   "execution_count": 2,
   "id": "789c6ea0",
   "metadata": {},
   "outputs": [
    {
     "name": "stdout",
     "output_type": "stream",
     "text": [
      "hello sebi\n"
     ]
    }
   ],
   "source": [
    "print(\"hello sebi\")"
   ]
  }
 ],
 "metadata": {
  "kernelspec": {
   "display_name": "Python 3 (ipykernel)",
   "language": "python",
   "name": "python3"
  },
  "language_info": {
   "codemirror_mode": {
    "name": "ipython",
    "version": 3
   },
   "file_extension": ".py",
   "mimetype": "text/x-python",
   "name": "python",
   "nbconvert_exporter": "python",
   "pygments_lexer": "ipython3",
   "version": "3.9.7"
  }
 },
 "nbformat": 4,
 "nbformat_minor": 5
}
